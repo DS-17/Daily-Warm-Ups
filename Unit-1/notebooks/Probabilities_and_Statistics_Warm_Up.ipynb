{
  "nbformat": 4,
  "nbformat_minor": 0,
  "metadata": {
    "colab": {
      "name": "Probabilities-and-Statistics-Warm-Up.ipynb",
      "provenance": [],
      "include_colab_link": true
    },
    "kernelspec": {
      "name": "python3",
      "display_name": "Python 3"
    }
  },
  "cells": [
    {
      "cell_type": "markdown",
      "metadata": {
        "id": "view-in-github",
        "colab_type": "text"
      },
      "source": [
        "<a href=\"https://colab.research.google.com/github/BrianThomasRoss/Daily-Warm-Ups/blob/master/Unit-1/notebooks/Probabilities_and_Statistics_Warm_Up.ipynb\" target=\"_parent\"><img src=\"https://colab.research.google.com/assets/colab-badge.svg\" alt=\"Open In Colab\"/></a>"
      ]
    },
    {
      "cell_type": "markdown",
      "metadata": {
        "id": "VMoZZRrA6PNT",
        "colab_type": "text"
      },
      "source": [
        "# Probabilities and Statistics Warm-Up\n",
        "---\n",
        "---\n",
        "---\n",
        "\n",
        "In the slack channel recruit a partner, you and your partner should work together from one of your own notebooks. When you're finished PR the completed warm up assignment into your partners repository.\n",
        "\n",
        "## Concepts\n",
        "----\n",
        "\n",
        "Discuss, and answer, the following conceptual questions."
      ]
    },
    {
      "cell_type": "markdown",
      "metadata": {
        "id": "V04MgkqEMuvy",
        "colab_type": "text"
      },
      "source": [
        "#### What is a normal distribution?\n"
      ]
    },
    {
      "cell_type": "markdown",
      "metadata": {
        "id": "ZKkASG0-MyWO",
        "colab_type": "text"
      },
      "source": [
        "**Answer:**"
      ]
    },
    {
      "cell_type": "markdown",
      "metadata": {
        "id": "kDK7FVrDM1Jy",
        "colab_type": "text"
      },
      "source": [
        ""
      ]
    },
    {
      "cell_type": "markdown",
      "metadata": {
        "id": "Fpsp_p5SKnT3",
        "colab_type": "text"
      },
      "source": [
        "#### What is the difference between descriptive and inferential statistics?"
      ]
    },
    {
      "cell_type": "markdown",
      "metadata": {
        "id": "sv006xPV8IKG",
        "colab_type": "text"
      },
      "source": [
        "**Answer:**\n",
        "<!-- Your answer in the following cell -->"
      ]
    },
    {
      "cell_type": "markdown",
      "metadata": {
        "id": "FXkw5RJR8hdC",
        "colab_type": "text"
      },
      "source": [
        "Descriptive:\n",
        "\n",
        "Inferential:"
      ]
    },
    {
      "cell_type": "markdown",
      "metadata": {
        "id": "OU_2uraV8vrX",
        "colab_type": "text"
      },
      "source": [
        "#### What is a null hypothesis?"
      ]
    },
    {
      "cell_type": "markdown",
      "metadata": {
        "id": "oBq4KPtbJ_zx",
        "colab_type": "text"
      },
      "source": [
        "**Answer:**"
      ]
    },
    {
      "cell_type": "markdown",
      "metadata": {
        "id": "Yaf-xp_uJ_2J",
        "colab_type": "text"
      },
      "source": [
        ""
      ]
    },
    {
      "cell_type": "markdown",
      "metadata": {
        "id": "3YgiOjQdK8K0",
        "colab_type": "text"
      },
      "source": [
        "#### What is a t-test useful for?"
      ]
    },
    {
      "cell_type": "markdown",
      "metadata": {
        "id": "6VQmENYnLRHc",
        "colab_type": "text"
      },
      "source": [
        "**Answer:**"
      ]
    },
    {
      "cell_type": "markdown",
      "metadata": {
        "id": "BqH3-4WrLRQX",
        "colab_type": "text"
      },
      "source": [
        "One sample: \n",
        "\n",
        "two sample:"
      ]
    },
    {
      "cell_type": "markdown",
      "metadata": {
        "id": "Zyli6eqPLaTX",
        "colab_type": "text"
      },
      "source": [
        "#### When should you use a 1-tailed vs 2-tailed t-test?"
      ]
    },
    {
      "cell_type": "markdown",
      "metadata": {
        "id": "yHOYPrtyLht6",
        "colab_type": "text"
      },
      "source": [
        "**Answer:**"
      ]
    },
    {
      "cell_type": "markdown",
      "metadata": {
        "id": "GVCNuBCALhwB",
        "colab_type": "text"
      },
      "source": [
        ""
      ]
    },
    {
      "cell_type": "markdown",
      "metadata": {
        "id": "24TFqBInLl0i",
        "colab_type": "text"
      },
      "source": [
        "#### Propose 3 use cases where t-tests could be implemented."
      ]
    },
    {
      "cell_type": "markdown",
      "metadata": {
        "id": "c5NJNzLCLzNk",
        "colab_type": "text"
      },
      "source": [
        "**Answer:**"
      ]
    },
    {
      "cell_type": "markdown",
      "metadata": {
        "id": "fXBI5MO7LzRb",
        "colab_type": "text"
      },
      "source": [
        ""
      ]
    },
    {
      "cell_type": "markdown",
      "metadata": {
        "id": "M-w4QxW0MH82",
        "colab_type": "text"
      },
      "source": [
        "## Code\n",
        "---"
      ]
    },
    {
      "cell_type": "code",
      "metadata": {
        "id": "wO5OK_IYMKR7",
        "colab_type": "code",
        "colab": {}
      },
      "source": [
        "import numpy as np  #  linear algebra\n",
        "import pandas as pd #  data manipulation\n",
        "# pandas config\n",
        "if pd:\n",
        "    pd.set_option('display.max_rows', 500)\n",
        "    pd.set_option('display.max_columns', 500)\n",
        "    pd.set_option('display.width', 1000)\n",
        "from scipy import stats #  statistics\n",
        "\n",
        "#  visualizations\n",
        "import matplotlib.pyplot as plt\n",
        "import seaborn as sns"
      ],
      "execution_count": 0,
      "outputs": []
    },
    {
      "cell_type": "code",
      "metadata": {
        "id": "4c4n6qsyPRUk",
        "colab_type": "code",
        "outputId": "f702b261-96a3-499f-bb4d-84093498182f",
        "colab": {
          "base_uri": "https://localhost:8080/",
          "height": 306
        }
      },
      "source": [
        "parties = [\"republican\", \"democrat\"]\n",
        "\n",
        "issues = [\"handicapped-infants\",\n",
        "          \"water-project-cost-sharing\",\n",
        "          \"adoption-of-the-budget-resolution\",\n",
        "          \"physician-fee-freeze\",\n",
        "          \"el-salvador-aid\",\n",
        "          \"religious-groups-in-schools\",\n",
        "          \"anti-satellite-test-ban\",\n",
        "          \"aid-to-nicaraguan-contras\",\n",
        "          \"mx-missile\",\n",
        "          \"immigration\",\n",
        "          \"synfuels-corporation-cutback\", \n",
        "          \"education-spending\",\n",
        "          \"superfund-right-to-sue\",\n",
        "          \"crime\",\n",
        "          \"duty-free-exports\", \n",
        "          \"export-administration-act-south-africa\", #  <-- While not required placing a comma here can be helpful when going back and ammending / adding to your code \n",
        "         ]\n",
        "\n",
        "columns = [\"party\"] + issues\n",
        "\n",
        "columns"
      ],
      "execution_count": 0,
      "outputs": [
        {
          "output_type": "execute_result",
          "data": {
            "text/plain": [
              "['party',\n",
              " 'handicapped-infants',\n",
              " 'water-project-cost-sharing',\n",
              " 'adoption-of-the-budget-resolution',\n",
              " 'physician-fee-freeze',\n",
              " 'el-salvador-aid',\n",
              " 'religious-groups-in-schools',\n",
              " 'anti-satellite-test-ban',\n",
              " 'aid-to-nicaraguan-contras',\n",
              " 'mx-missile',\n",
              " 'immigration',\n",
              " 'synfuels-corporation-cutback',\n",
              " 'education-spending',\n",
              " 'superfund-right-to-sue',\n",
              " 'crime',\n",
              " 'duty-free-exports',\n",
              " 'export-administration-act-south-africa']"
            ]
          },
          "metadata": {
            "tags": []
          },
          "execution_count": 5
        }
      ]
    },
    {
      "cell_type": "code",
      "metadata": {
        "id": "HZUk63LKQDK6",
        "colab_type": "code",
        "outputId": "eaa24916-caac-428c-d966-1990e106e77e",
        "colab": {
          "base_uri": "https://localhost:8080/",
          "height": 275
        }
      },
      "source": [
        "# Loading the data\n",
        "uci = \"https://archive.ics.uci.edu/ml/machine-learning-databases\"\n",
        "data = \"/voting-records/house-votes-84.data\"\n",
        "\n",
        "df = # YOUR CODE HERE\n",
        "df.head()"
      ],
      "execution_count": 0,
      "outputs": [
        {
          "output_type": "execute_result",
          "data": {
            "text/html": [
              "<div>\n",
              "<style scoped>\n",
              "    .dataframe tbody tr th:only-of-type {\n",
              "        vertical-align: middle;\n",
              "    }\n",
              "\n",
              "    .dataframe tbody tr th {\n",
              "        vertical-align: top;\n",
              "    }\n",
              "\n",
              "    .dataframe thead th {\n",
              "        text-align: right;\n",
              "    }\n",
              "</style>\n",
              "<table border=\"1\" class=\"dataframe\">\n",
              "  <thead>\n",
              "    <tr style=\"text-align: right;\">\n",
              "      <th></th>\n",
              "      <th>party</th>\n",
              "      <th>handicapped-infants</th>\n",
              "      <th>water-project-cost-sharing</th>\n",
              "      <th>adoption-of-the-budget-resolution</th>\n",
              "      <th>physician-fee-freeze</th>\n",
              "      <th>el-salvador-aid</th>\n",
              "      <th>religious-groups-in-schools</th>\n",
              "      <th>anti-satellite-test-ban</th>\n",
              "      <th>aid-to-nicaraguan-contras</th>\n",
              "      <th>mx-missile</th>\n",
              "      <th>immigration</th>\n",
              "      <th>synfuels-corporation-cutback</th>\n",
              "      <th>education-spending</th>\n",
              "      <th>superfund-right-to-sue</th>\n",
              "      <th>crime</th>\n",
              "      <th>duty-free-exports</th>\n",
              "      <th>export-administration-act-south-africa</th>\n",
              "    </tr>\n",
              "  </thead>\n",
              "  <tbody>\n",
              "    <tr>\n",
              "      <th>0</th>\n",
              "      <td>republican</td>\n",
              "      <td>n</td>\n",
              "      <td>y</td>\n",
              "      <td>n</td>\n",
              "      <td>y</td>\n",
              "      <td>y</td>\n",
              "      <td>y</td>\n",
              "      <td>n</td>\n",
              "      <td>n</td>\n",
              "      <td>n</td>\n",
              "      <td>y</td>\n",
              "      <td>?</td>\n",
              "      <td>y</td>\n",
              "      <td>y</td>\n",
              "      <td>y</td>\n",
              "      <td>n</td>\n",
              "      <td>y</td>\n",
              "    </tr>\n",
              "    <tr>\n",
              "      <th>1</th>\n",
              "      <td>republican</td>\n",
              "      <td>n</td>\n",
              "      <td>y</td>\n",
              "      <td>n</td>\n",
              "      <td>y</td>\n",
              "      <td>y</td>\n",
              "      <td>y</td>\n",
              "      <td>n</td>\n",
              "      <td>n</td>\n",
              "      <td>n</td>\n",
              "      <td>n</td>\n",
              "      <td>n</td>\n",
              "      <td>y</td>\n",
              "      <td>y</td>\n",
              "      <td>y</td>\n",
              "      <td>n</td>\n",
              "      <td>?</td>\n",
              "    </tr>\n",
              "    <tr>\n",
              "      <th>2</th>\n",
              "      <td>democrat</td>\n",
              "      <td>?</td>\n",
              "      <td>y</td>\n",
              "      <td>y</td>\n",
              "      <td>?</td>\n",
              "      <td>y</td>\n",
              "      <td>y</td>\n",
              "      <td>n</td>\n",
              "      <td>n</td>\n",
              "      <td>n</td>\n",
              "      <td>n</td>\n",
              "      <td>y</td>\n",
              "      <td>n</td>\n",
              "      <td>y</td>\n",
              "      <td>y</td>\n",
              "      <td>n</td>\n",
              "      <td>n</td>\n",
              "    </tr>\n",
              "    <tr>\n",
              "      <th>3</th>\n",
              "      <td>democrat</td>\n",
              "      <td>n</td>\n",
              "      <td>y</td>\n",
              "      <td>y</td>\n",
              "      <td>n</td>\n",
              "      <td>?</td>\n",
              "      <td>y</td>\n",
              "      <td>n</td>\n",
              "      <td>n</td>\n",
              "      <td>n</td>\n",
              "      <td>n</td>\n",
              "      <td>y</td>\n",
              "      <td>n</td>\n",
              "      <td>y</td>\n",
              "      <td>n</td>\n",
              "      <td>n</td>\n",
              "      <td>y</td>\n",
              "    </tr>\n",
              "    <tr>\n",
              "      <th>4</th>\n",
              "      <td>democrat</td>\n",
              "      <td>y</td>\n",
              "      <td>y</td>\n",
              "      <td>y</td>\n",
              "      <td>n</td>\n",
              "      <td>y</td>\n",
              "      <td>y</td>\n",
              "      <td>n</td>\n",
              "      <td>n</td>\n",
              "      <td>n</td>\n",
              "      <td>n</td>\n",
              "      <td>y</td>\n",
              "      <td>?</td>\n",
              "      <td>y</td>\n",
              "      <td>y</td>\n",
              "      <td>y</td>\n",
              "      <td>y</td>\n",
              "    </tr>\n",
              "  </tbody>\n",
              "</table>\n",
              "</div>"
            ],
            "text/plain": [
              "        party handicapped-infants water-project-cost-sharing adoption-of-the-budget-resolution physician-fee-freeze el-salvador-aid religious-groups-in-schools anti-satellite-test-ban aid-to-nicaraguan-contras mx-missile immigration synfuels-corporation-cutback education-spending superfund-right-to-sue crime duty-free-exports export-administration-act-south-africa\n",
              "0  republican                   n                          y                                 n                    y               y                           y                       n                         n          n           y                            ?                  y                      y     y                 n                                      y\n",
              "1  republican                   n                          y                                 n                    y               y                           y                       n                         n          n           n                            n                  y                      y     y                 n                                      ?\n",
              "2    democrat                   ?                          y                                 y                    ?               y                           y                       n                         n          n           n                            y                  n                      y     y                 n                                      n\n",
              "3    democrat                   n                          y                                 y                    n               ?                           y                       n                         n          n           n                            y                  n                      y     n                 n                                      y\n",
              "4    democrat                   y                          y                                 y                    n               y                           y                       n                         n          n           n                            y                  ?                      y     y                 y                                      y"
            ]
          },
          "metadata": {
            "tags": []
          },
          "execution_count": 6
        }
      ]
    },
    {
      "cell_type": "code",
      "metadata": {
        "id": "zBagneyERDOc",
        "colab_type": "code",
        "outputId": "10f3805e-55a2-476e-f952-d1f461aa05d7",
        "colab": {
          "base_uri": "https://localhost:8080/",
          "height": 275
        }
      },
      "source": [
        "# Replace the entries in the dataframe so y = 1 , n = 0 , and ? = np.NaN\n",
        "\n",
        "df = # YOUR CODE HERE\n",
        "\n",
        "df.head()"
      ],
      "execution_count": 0,
      "outputs": [
        {
          "output_type": "execute_result",
          "data": {
            "text/html": [
              "<div>\n",
              "<style scoped>\n",
              "    .dataframe tbody tr th:only-of-type {\n",
              "        vertical-align: middle;\n",
              "    }\n",
              "\n",
              "    .dataframe tbody tr th {\n",
              "        vertical-align: top;\n",
              "    }\n",
              "\n",
              "    .dataframe thead th {\n",
              "        text-align: right;\n",
              "    }\n",
              "</style>\n",
              "<table border=\"1\" class=\"dataframe\">\n",
              "  <thead>\n",
              "    <tr style=\"text-align: right;\">\n",
              "      <th></th>\n",
              "      <th>party</th>\n",
              "      <th>handicapped-infants</th>\n",
              "      <th>water-project-cost-sharing</th>\n",
              "      <th>adoption-of-the-budget-resolution</th>\n",
              "      <th>physician-fee-freeze</th>\n",
              "      <th>el-salvador-aid</th>\n",
              "      <th>religious-groups-in-schools</th>\n",
              "      <th>anti-satellite-test-ban</th>\n",
              "      <th>aid-to-nicaraguan-contras</th>\n",
              "      <th>mx-missile</th>\n",
              "      <th>immigration</th>\n",
              "      <th>synfuels-corporation-cutback</th>\n",
              "      <th>education-spending</th>\n",
              "      <th>superfund-right-to-sue</th>\n",
              "      <th>crime</th>\n",
              "      <th>duty-free-exports</th>\n",
              "      <th>export-administration-act-south-africa</th>\n",
              "    </tr>\n",
              "  </thead>\n",
              "  <tbody>\n",
              "    <tr>\n",
              "      <th>0</th>\n",
              "      <td>republican</td>\n",
              "      <td>0.0</td>\n",
              "      <td>1.0</td>\n",
              "      <td>0.0</td>\n",
              "      <td>1.0</td>\n",
              "      <td>1.0</td>\n",
              "      <td>1.0</td>\n",
              "      <td>0.0</td>\n",
              "      <td>0.0</td>\n",
              "      <td>0.0</td>\n",
              "      <td>1.0</td>\n",
              "      <td>NaN</td>\n",
              "      <td>1.0</td>\n",
              "      <td>1.0</td>\n",
              "      <td>1.0</td>\n",
              "      <td>0.0</td>\n",
              "      <td>1.0</td>\n",
              "    </tr>\n",
              "    <tr>\n",
              "      <th>1</th>\n",
              "      <td>republican</td>\n",
              "      <td>0.0</td>\n",
              "      <td>1.0</td>\n",
              "      <td>0.0</td>\n",
              "      <td>1.0</td>\n",
              "      <td>1.0</td>\n",
              "      <td>1.0</td>\n",
              "      <td>0.0</td>\n",
              "      <td>0.0</td>\n",
              "      <td>0.0</td>\n",
              "      <td>0.0</td>\n",
              "      <td>0.0</td>\n",
              "      <td>1.0</td>\n",
              "      <td>1.0</td>\n",
              "      <td>1.0</td>\n",
              "      <td>0.0</td>\n",
              "      <td>NaN</td>\n",
              "    </tr>\n",
              "    <tr>\n",
              "      <th>2</th>\n",
              "      <td>democrat</td>\n",
              "      <td>NaN</td>\n",
              "      <td>1.0</td>\n",
              "      <td>1.0</td>\n",
              "      <td>NaN</td>\n",
              "      <td>1.0</td>\n",
              "      <td>1.0</td>\n",
              "      <td>0.0</td>\n",
              "      <td>0.0</td>\n",
              "      <td>0.0</td>\n",
              "      <td>0.0</td>\n",
              "      <td>1.0</td>\n",
              "      <td>0.0</td>\n",
              "      <td>1.0</td>\n",
              "      <td>1.0</td>\n",
              "      <td>0.0</td>\n",
              "      <td>0.0</td>\n",
              "    </tr>\n",
              "    <tr>\n",
              "      <th>3</th>\n",
              "      <td>democrat</td>\n",
              "      <td>0.0</td>\n",
              "      <td>1.0</td>\n",
              "      <td>1.0</td>\n",
              "      <td>0.0</td>\n",
              "      <td>NaN</td>\n",
              "      <td>1.0</td>\n",
              "      <td>0.0</td>\n",
              "      <td>0.0</td>\n",
              "      <td>0.0</td>\n",
              "      <td>0.0</td>\n",
              "      <td>1.0</td>\n",
              "      <td>0.0</td>\n",
              "      <td>1.0</td>\n",
              "      <td>0.0</td>\n",
              "      <td>0.0</td>\n",
              "      <td>1.0</td>\n",
              "    </tr>\n",
              "    <tr>\n",
              "      <th>4</th>\n",
              "      <td>democrat</td>\n",
              "      <td>1.0</td>\n",
              "      <td>1.0</td>\n",
              "      <td>1.0</td>\n",
              "      <td>0.0</td>\n",
              "      <td>1.0</td>\n",
              "      <td>1.0</td>\n",
              "      <td>0.0</td>\n",
              "      <td>0.0</td>\n",
              "      <td>0.0</td>\n",
              "      <td>0.0</td>\n",
              "      <td>1.0</td>\n",
              "      <td>NaN</td>\n",
              "      <td>1.0</td>\n",
              "      <td>1.0</td>\n",
              "      <td>1.0</td>\n",
              "      <td>1.0</td>\n",
              "    </tr>\n",
              "  </tbody>\n",
              "</table>\n",
              "</div>"
            ],
            "text/plain": [
              "        party  handicapped-infants  water-project-cost-sharing  adoption-of-the-budget-resolution  physician-fee-freeze  el-salvador-aid  religious-groups-in-schools  anti-satellite-test-ban  aid-to-nicaraguan-contras  mx-missile  immigration  synfuels-corporation-cutback  education-spending  superfund-right-to-sue  crime  duty-free-exports  export-administration-act-south-africa\n",
              "0  republican                  0.0                         1.0                                0.0                   1.0              1.0                          1.0                      0.0                        0.0         0.0          1.0                           NaN                 1.0                     1.0    1.0                0.0                                     1.0\n",
              "1  republican                  0.0                         1.0                                0.0                   1.0              1.0                          1.0                      0.0                        0.0         0.0          0.0                           0.0                 1.0                     1.0    1.0                0.0                                     NaN\n",
              "2    democrat                  NaN                         1.0                                1.0                   NaN              1.0                          1.0                      0.0                        0.0         0.0          0.0                           1.0                 0.0                     1.0    1.0                0.0                                     0.0\n",
              "3    democrat                  0.0                         1.0                                1.0                   0.0              NaN                          1.0                      0.0                        0.0         0.0          0.0                           1.0                 0.0                     1.0    0.0                0.0                                     1.0\n",
              "4    democrat                  1.0                         1.0                                1.0                   0.0              1.0                          1.0                      0.0                        0.0         0.0          0.0                           1.0                 NaN                     1.0    1.0                1.0                                     1.0"
            ]
          },
          "metadata": {
            "tags": []
          },
          "execution_count": 8
        }
      ]
    },
    {
      "cell_type": "code",
      "metadata": {
        "id": "tYYNF-9mVliG",
        "colab_type": "code",
        "outputId": "ff84cfc3-c567-4341-917d-3ce6b7590bdc",
        "colab": {
          "base_uri": "https://localhost:8080/",
          "height": 34
        }
      },
      "source": [
        "# Create seperate dataframes for republicans and democrats by slicing the above dataframe.\n",
        "\n",
        "republicans = # YOUR CODE HERE\n",
        "democrats = # YOUR CODE HERE\n",
        "\n",
        "print(len(republicans), len(democrats))"
      ],
      "execution_count": 0,
      "outputs": [
        {
          "output_type": "stream",
          "text": [
            "168 267\n"
          ],
          "name": "stdout"
        }
      ]
    },
    {
      "cell_type": "code",
      "metadata": {
        "id": "GCUrrB23Wn8i",
        "colab_type": "code",
        "colab": {}
      },
      "source": [
        "# Define a function to compare the means between both parties\n",
        "\n",
        "def compare_means(issues):\n",
        "    \"\"\"Compares the means of both parties for each issue\"\"\"\n",
        "    for issue in issues:\n",
        "        mean_dems = # YOUR CODE HERE\n",
        "        mean_reps = # YOUR CODE HERE\n",
        "        banner_length = \"-\"*len(issue)\n",
        "\n",
        "        print(f\"\"\"\n",
        "        Issue ({issue})\n",
        "        -------{banner_length}-\n",
        "\n",
        "          Democrat voting mean: {mean_dems:.05f}\n",
        "        Republican voting mean: {mean_reps:.05f}\n",
        "        \"\"\")"
      ],
      "execution_count": 0,
      "outputs": []
    },
    {
      "cell_type": "code",
      "metadata": {
        "id": "fZ1LPNjYXujj",
        "colab_type": "code",
        "colab": {}
      },
      "source": [
        "compare_means(issues=issues)"
      ],
      "execution_count": 0,
      "outputs": []
    },
    {
      "cell_type": "code",
      "metadata": {
        "id": "Egg9KD8aXyXL",
        "colab_type": "code",
        "colab": {}
      },
      "source": [
        "# Add the two sample t-test to the function\n",
        "\n",
        "def compare_parties(issues):\n",
        "    \"\"\"Compares the means of both parties for each issue\n",
        "\n",
        "    Returns\n",
        "    -------\n",
        "\n",
        "        Prints to stdout the mean support for each party on each issue and the\n",
        "        results of 2 tailed t-test.    \n",
        "    \"\"\"\n",
        "    for issue in issues:\n",
        "        mean_dems = # YOUR CODE HERE\n",
        "        mean_reps = # YOUR CODE HERE\n",
        "        \n",
        "        ttest_2samp = # YOUR CODE HERE\n",
        "        \n",
        "        sep = \"--------\" + \"-\"*len(issue)+\"-\"\n",
        "\n",
        "        print(f\"\"\"\n",
        "        Issue ({issue})\n",
        "        {sep}\n",
        "\n",
        "          Democrat voting mean: {mean_dems:.05f}\n",
        "        Republican voting mean: {mean_reps:.05f}\n",
        "                t-test results: {ttest_2samp}\n",
        "        \n",
        "        {sep}\n",
        "        \"\"\")\n"
      ],
      "execution_count": 0,
      "outputs": []
    },
    {
      "cell_type": "code",
      "metadata": {
        "id": "ULhVpYs2ZXXe",
        "colab_type": "code",
        "colab": {}
      },
      "source": [
        "compare_parties(issues=issues)"
      ],
      "execution_count": 0,
      "outputs": []
    }
  ]
}