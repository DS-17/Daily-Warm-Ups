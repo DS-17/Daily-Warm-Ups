{
 "cells": [
  {
   "cell_type": "markdown",
   "metadata": {
    "colab_type": "text",
    "id": "pXMdEU-qHQHh"
   },
   "source": [
    "This study guide should reinforce and provide practice for all of the concepts you have seen in the past week. There are a mix of written questions and coding exercises, both are equally important to prepare you for the sprint challenge as well as to be able to speak on these topics comfortably in interviews and on the job.\n",
    "\n",
    "If you get stuck or are unsure of something remember the 20 minute rule. If that doesn't help, then research a solution with google and stackoverflow. Only once you have exausted these methods should you turn to your Team Lead - they won't be there on your SC or during an interview. That being said, don't hesitate to ask for help if you truly are stuck.\n",
    "\n",
    "Have fun studying!"
   ]
  },
  {
   "cell_type": "markdown",
   "metadata": {
    "colab_type": "text",
    "id": "V-vPPhtthaNU"
   },
   "source": [
    "# Resources"
   ]
  },
  {
   "cell_type": "markdown",
   "metadata": {
    "colab_type": "text",
    "id": "PCvm7I44H3Oe"
   },
   "source": [
    "[Category Encoders](https://contrib.scikit-learn.org/categorical-encoding/)\n",
    "\n",
    "[Logistic Regression](https://scikit-learn.org/stable/modules/generated/sklearn.linear_model.LogisticRegression.html)\n",
    "\n",
    "[Decision Tree Classifier](https://scikit-learn.org/stable/modules/generated/sklearn.tree.DecisionTreeClassifier.html)\n",
    "\n",
    "[Hyperparameter Tuning](https://scikit-learn.org/stable/modules/grid_search.html)\n",
    "\n",
    "[Confusion Matrix](https://scikit-learn.org/stable/auto_examples/model_selection/plot_confusion_matrix.html)\n",
    "\n",
    "[Scoring Metrics](https://scikit-learn.org/stable/modules/model_evaluation.html)"
   ]
  },
  {
   "cell_type": "code",
   "execution_count": 1,
   "metadata": {
    "colab": {},
    "colab_type": "code",
    "id": "b_7n8s1mak9k"
   },
   "outputs": [],
   "source": [
    "import pandas as pd"
   ]
  },
  {
   "cell_type": "markdown",
   "metadata": {
    "colab_type": "text",
    "id": "xL8fg3mIhd_L"
   },
   "source": [
    "Use the dataframe below for all questions unless otherwise stated"
   ]
  },
  {
   "cell_type": "code",
   "execution_count": 2,
   "metadata": {
    "colab": {
     "base_uri": "https://localhost:8080/",
     "height": 206
    },
    "colab_type": "code",
    "id": "3WWarojafXt5",
    "outputId": "be403850-88a6-465a-981d-43f0ebbaa2e1"
   },
   "outputs": [
    {
     "data": {
      "text/html": [
       "<div>\n",
       "<style scoped>\n",
       "    .dataframe tbody tr th:only-of-type {\n",
       "        vertical-align: middle;\n",
       "    }\n",
       "\n",
       "    .dataframe tbody tr th {\n",
       "        vertical-align: top;\n",
       "    }\n",
       "\n",
       "    .dataframe thead th {\n",
       "        text-align: right;\n",
       "    }\n",
       "</style>\n",
       "<table border=\"1\" class=\"dataframe\">\n",
       "  <thead>\n",
       "    <tr style=\"text-align: right;\">\n",
       "      <th></th>\n",
       "      <th>Unnamed: 0</th>\n",
       "      <th>age</th>\n",
       "      <th>sex</th>\n",
       "      <th>cp</th>\n",
       "      <th>trestbps</th>\n",
       "      <th>chol</th>\n",
       "      <th>fbs</th>\n",
       "      <th>restecg</th>\n",
       "      <th>thalach</th>\n",
       "      <th>exang</th>\n",
       "      <th>oldpeak</th>\n",
       "      <th>slope</th>\n",
       "      <th>ca</th>\n",
       "      <th>thal</th>\n",
       "      <th>target</th>\n",
       "    </tr>\n",
       "  </thead>\n",
       "  <tbody>\n",
       "    <tr>\n",
       "      <th>0</th>\n",
       "      <td>0</td>\n",
       "      <td>63</td>\n",
       "      <td>Male</td>\n",
       "      <td>D</td>\n",
       "      <td>145</td>\n",
       "      <td>233</td>\n",
       "      <td>1</td>\n",
       "      <td>0</td>\n",
       "      <td>150</td>\n",
       "      <td>0</td>\n",
       "      <td>2.3</td>\n",
       "      <td>0</td>\n",
       "      <td>0</td>\n",
       "      <td>1</td>\n",
       "      <td>1</td>\n",
       "    </tr>\n",
       "    <tr>\n",
       "      <th>1</th>\n",
       "      <td>1</td>\n",
       "      <td>37</td>\n",
       "      <td>Male</td>\n",
       "      <td>C</td>\n",
       "      <td>130</td>\n",
       "      <td>250</td>\n",
       "      <td>0</td>\n",
       "      <td>1</td>\n",
       "      <td>187</td>\n",
       "      <td>0</td>\n",
       "      <td>3.5</td>\n",
       "      <td>0</td>\n",
       "      <td>0</td>\n",
       "      <td>2</td>\n",
       "      <td>1</td>\n",
       "    </tr>\n",
       "    <tr>\n",
       "      <th>2</th>\n",
       "      <td>2</td>\n",
       "      <td>41</td>\n",
       "      <td>Female</td>\n",
       "      <td>B</td>\n",
       "      <td>130</td>\n",
       "      <td>204</td>\n",
       "      <td>0</td>\n",
       "      <td>0</td>\n",
       "      <td>172</td>\n",
       "      <td>0</td>\n",
       "      <td>1.4</td>\n",
       "      <td>2</td>\n",
       "      <td>0</td>\n",
       "      <td>2</td>\n",
       "      <td>1</td>\n",
       "    </tr>\n",
       "    <tr>\n",
       "      <th>3</th>\n",
       "      <td>3</td>\n",
       "      <td>56</td>\n",
       "      <td>Male</td>\n",
       "      <td>B</td>\n",
       "      <td>120</td>\n",
       "      <td>236</td>\n",
       "      <td>0</td>\n",
       "      <td>1</td>\n",
       "      <td>178</td>\n",
       "      <td>0</td>\n",
       "      <td>0.8</td>\n",
       "      <td>2</td>\n",
       "      <td>0</td>\n",
       "      <td>2</td>\n",
       "      <td>1</td>\n",
       "    </tr>\n",
       "    <tr>\n",
       "      <th>4</th>\n",
       "      <td>4</td>\n",
       "      <td>57</td>\n",
       "      <td>Female</td>\n",
       "      <td>A</td>\n",
       "      <td>120</td>\n",
       "      <td>354</td>\n",
       "      <td>0</td>\n",
       "      <td>1</td>\n",
       "      <td>163</td>\n",
       "      <td>1</td>\n",
       "      <td>0.6</td>\n",
       "      <td>2</td>\n",
       "      <td>0</td>\n",
       "      <td>2</td>\n",
       "      <td>1</td>\n",
       "    </tr>\n",
       "  </tbody>\n",
       "</table>\n",
       "</div>"
      ],
      "text/plain": [
       "   Unnamed: 0  age     sex cp  trestbps  chol  fbs  restecg  thalach  exang  \\\n",
       "0           0   63    Male  D       145   233    1        0      150      0   \n",
       "1           1   37    Male  C       130   250    0        1      187      0   \n",
       "2           2   41  Female  B       130   204    0        0      172      0   \n",
       "3           3   56    Male  B       120   236    0        1      178      0   \n",
       "4           4   57  Female  A       120   354    0        1      163      1   \n",
       "\n",
       "   oldpeak  slope  ca  thal  target  \n",
       "0      2.3      0   0     1       1  \n",
       "1      3.5      0   0     2       1  \n",
       "2      1.4      2   0     2       1  \n",
       "3      0.8      2   0     2       1  \n",
       "4      0.6      2   0     2       1  "
      ]
     },
     "execution_count": 2,
     "metadata": {},
     "output_type": "execute_result"
    }
   ],
   "source": [
    "# https://www.kaggle.com/ronitf/heart-disease-uci\n",
    "df = pd.read_csv('https://raw.githubusercontent.com/bundickm/Study-Guides/master/data/hearts.csv')\n",
    "df.head()"
   ]
  },
  {
   "cell_type": "markdown",
   "metadata": {
    "colab_type": "text",
    "id": "eDMTLmTzhufS"
   },
   "source": [
    "# Basics and Data Preparation"
   ]
  },
  {
   "cell_type": "markdown",
   "metadata": {
    "colab_type": "text",
    "id": "x7LH-U2KiMfO"
   },
   "source": [
    "Define the following terms in your own words, do not simply copy and paste a definition found elsewhere but reword it to be understandable and memorable to you. *Double click the markdown to add your definitions.*\n",
    "<br/><br/>\n",
    "\n",
    "**Logistic Regression:** `Forming a linear model to predict a continuous series.`\n",
    "\n",
    "**Imbalanced Classes:** `When a model has unequal values on ones side or another.`\n",
    "\n",
    "**Leakage:** `When the test model catches data from the training set.`\n",
    "\n",
    "**Categorical Encoding:** `A way to transrorm categorical values into numerical values a model can use.`\n",
    "\n",
    "**Skew:** `Imbalanced values, the direction of the imbalance.`\n",
    "\n",
    "**Log Transformation:** `A way to handle imbalanced models.`\n",
    "\n",
    "**Outliers:** `Extremes in data that can throw off accuracy.`"
   ]
  },
  {
   "cell_type": "markdown",
   "metadata": {
    "colab_type": "text",
    "id": "fCIXoJtDnXDZ"
   },
   "source": [
    "Answer the following questions in plain english as much as possible.\n",
    "<br/><br/>\n",
    "\n",
    "What are some ways to deal with imbalanced classes?\n",
    "```\n",
    "Log Transformation, changing weight and/or scale of either majority or minority classes.\n",
    "```\n",
    "\n",
    "What are some possible sources of data leakage?\n",
    "```\n",
    "Combined data exploration before a train_test_split.\n",
    "```\n",
    "\n",
    "What are some indicators or methods for detecting data leakage?\n",
    "```\n",
    "Your Answer Here\n",
    "```\n",
    "\n",
    "What is the relationship between skew and log transformation?\n",
    "```\n",
    "Your Answer Here\n",
    "```"
   ]
  },
  {
   "cell_type": "markdown",
   "metadata": {
    "colab_type": "text",
    "id": "q2M6tTW02sJe"
   },
   "source": [
    "Using the dataset above, complete the following:\n",
    "- Train/Test/Validation Split\n",
    "- Get a baseline\n",
    "- Perform EDA with visuals\n",
    "- Clean up any nulls, duplicate columns, or outliers you might find\n",
    "- Engineer at least 2 features\n",
    "- Use One Hot or Ordinal Encoding on one feature"
   ]
  },
  {
   "cell_type": "code",
   "execution_count": null,
   "metadata": {
    "colab": {},
    "colab_type": "code",
    "id": "XZlA2iue6LFN"
   },
   "outputs": [],
   "source": []
  },
  {
   "cell_type": "markdown",
   "metadata": {
    "colab_type": "text",
    "id": "14JotyiJ8RjD"
   },
   "source": [
    "# Model Building"
   ]
  },
  {
   "cell_type": "markdown",
   "metadata": {
    "colab_type": "text",
    "id": "dhEv3JQ78TdH"
   },
   "source": [
    "Define the following terms in your own words, do not simply copy and paste a definition found elsewhere but reword it to be understandable and memorable to you. *Double click the markdown to add your definitions.*\n",
    "<br/><br/>\n",
    "\n",
    "**Decision Tree:** `Your Answer Here`\n",
    "\n",
    "**Ensemble Methods (Ensemble Models):** `Your Answer Here`\n",
    "\n",
    "**Gradient Descent:** `Your Answer Here`\n",
    "\n",
    "**Bagging:** `Your Answer Here`\n",
    "\n",
    "**Boosting:** `Your Answer Here`\n",
    "\n",
    "**Hyperparameters:** `Your Answer Here`"
   ]
  },
  {
   "cell_type": "markdown",
   "metadata": {
    "colab_type": "text",
    "id": "Bl8D-WwF8W8l"
   },
   "source": [
    "Build a random forest classifier using the dataset you cleaned and prepped above."
   ]
  },
  {
   "cell_type": "code",
   "execution_count": null,
   "metadata": {
    "colab": {},
    "colab_type": "code",
    "id": "T1dTbiC78g7r"
   },
   "outputs": [],
   "source": []
  },
  {
   "cell_type": "markdown",
   "metadata": {
    "colab_type": "text",
    "id": "oE5S3glR-wNp"
   },
   "source": [
    "Graph your model's feature importances"
   ]
  },
  {
   "cell_type": "code",
   "execution_count": null,
   "metadata": {
    "colab": {},
    "colab_type": "code",
    "id": "Jptjbm16-3SY"
   },
   "outputs": [],
   "source": []
  },
  {
   "cell_type": "markdown",
   "metadata": {
    "colab_type": "text",
    "id": "nu9wLKlg-3q3"
   },
   "source": [
    "In 2-3 sentences, explain how to interpret and use the feature importances to further refine or help explain your model.\n",
    "\n",
    "```\n",
    "Your Answer Here\n",
    "```\n",
    "\n",
    "How does feature importance differ from drop-column importances and permutation importances?\n",
    "\n",
    "```\n",
    "Your Answer Here\n",
    "```"
   ]
  },
  {
   "cell_type": "markdown",
   "metadata": {
    "colab_type": "text",
    "id": "df3-NCv18hUC"
   },
   "source": [
    "Build a logisitic regression model using the dataset you cleaned and prepped above."
   ]
  },
  {
   "cell_type": "code",
   "execution_count": null,
   "metadata": {
    "colab": {},
    "colab_type": "code",
    "id": "N2Kzqo358qbc"
   },
   "outputs": [],
   "source": []
  },
  {
   "cell_type": "markdown",
   "metadata": {
    "colab_type": "text",
    "id": "inxDK4qx_WM7"
   },
   "source": [
    "Plot the coefficients of your model."
   ]
  },
  {
   "cell_type": "code",
   "execution_count": null,
   "metadata": {
    "colab": {},
    "colab_type": "code",
    "id": "tPEtTboF_hgs"
   },
   "outputs": [],
   "source": []
  },
  {
   "cell_type": "markdown",
   "metadata": {
    "colab_type": "text",
    "id": "Kz_obfF9_kaF"
   },
   "source": [
    "In 2-3 sentences, explain how to interpret and use the coefficients to further refine or help explain your model.\n",
    "\n",
    "```\n",
    "Your Answer Here\n",
    "```"
   ]
  },
  {
   "cell_type": "markdown",
   "metadata": {
    "colab_type": "text",
    "id": "lZXahsuH_yUl"
   },
   "source": [
    "What is an example of an ensemble method?\n",
    "\n",
    "```\n",
    "Your Answer Here\n",
    "```\n",
    "\n",
    "What do we mean by hyperparameter tuning and how can we automate the tuning process?\n",
    "\n",
    "```\n",
    "Your Answer Here\n",
    "```"
   ]
  },
  {
   "cell_type": "markdown",
   "metadata": {
    "colab_type": "text",
    "id": "UfkSVMIS_7dg"
   },
   "source": [
    "# Metrics and Model Evaluation"
   ]
  },
  {
   "cell_type": "markdown",
   "metadata": {
    "colab_type": "text",
    "id": "Vb659NzBAQAY"
   },
   "source": [
    "Define the following terms in your own words, do not simply copy and paste a definition found elsewhere but reword it to be understandable and memorable to you. *Double click the markdown to add your definitions.*\n",
    "<br/><br/>\n",
    "\n",
    "**ROC:** `Your Answer Here`\n",
    "\n",
    "**ROC-AUC:** `Your Answer Here`\n",
    "\n",
    "**Discrimination Threshold:** `Your Answer Here`\n",
    "\n",
    "**Precision:** `Your Answer Here`\n",
    "\n",
    "**Recall:** `Your Answer Here`\n",
    "\n",
    "**F1 Score:** `Your Answer Here`\n",
    "\n",
    "**Confusion Matrix:** `Your Answer Here`"
   ]
  },
  {
   "cell_type": "markdown",
   "metadata": {
    "colab_type": "text",
    "id": "0F8klqRlCj1k"
   },
   "source": [
    "Choose one of your models above to complete the following:\n",
    "- Get your model's validation accuracy (This may be done multiple times if you are refining your model)\n",
    "- Get your model's test accuracy\n",
    "- Create a confusion matrix for your model\n",
    "- Calculate the Accuracy, F1 Score, Precision, and Recall by hand\n",
    "- Use SKLearn to calculate accuracy, F1 score, precision, and recall to confirm your work."
   ]
  },
  {
   "cell_type": "code",
   "execution_count": null,
   "metadata": {
    "colab": {},
    "colab_type": "code",
    "id": "MLFsf9me_49e"
   },
   "outputs": [],
   "source": []
  },
  {
   "cell_type": "markdown",
   "metadata": {
    "colab_type": "text",
    "id": "elfpNZo-Fxe-"
   },
   "source": [
    "Give an example of when we would use precision to score our model and explain why precision is the best metric for that situation.\n",
    "\n",
    "```\n",
    "Your Answer Here\n",
    "```\n",
    "\n",
    "Give an example of when we would use recall to score our model and explain why recall is the best metric for that situation.\n",
    "\n",
    "```\n",
    "Your Answer Here\n",
    "```"
   ]
  },
  {
   "cell_type": "markdown",
   "metadata": {
    "colab_type": "text",
    "id": "Bdhtv_4KJrgQ"
   },
   "source": [
    "Find your model's ROC-AUC Score"
   ]
  },
  {
   "cell_type": "code",
   "execution_count": null,
   "metadata": {
    "colab": {},
    "colab_type": "code",
    "id": "uFR91njwJv8b"
   },
   "outputs": [],
   "source": []
  },
  {
   "cell_type": "markdown",
   "metadata": {
    "colab_type": "text",
    "id": "DYOLWhoUJfQU"
   },
   "source": [
    "Plot your model's ROC Curve"
   ]
  },
  {
   "cell_type": "code",
   "execution_count": null,
   "metadata": {
    "colab": {},
    "colab_type": "code",
    "id": "VI45S71RJkRy"
   },
   "outputs": [],
   "source": []
  }
 ],
 "metadata": {
  "colab": {
   "collapsed_sections": [],
   "name": "Unit 2 Sprint 2 - Tree Ensembles - Study Guide.ipynb",
   "provenance": []
  },
  "kernelspec": {
   "display_name": "Python 3",
   "language": "python",
   "name": "python3"
  },
  "language_info": {
   "codemirror_mode": {
    "name": "ipython",
    "version": 3
   },
   "file_extension": ".py",
   "mimetype": "text/x-python",
   "name": "python",
   "nbconvert_exporter": "python",
   "pygments_lexer": "ipython3",
   "version": "3.7.6"
  }
 },
 "nbformat": 4,
 "nbformat_minor": 1
}
