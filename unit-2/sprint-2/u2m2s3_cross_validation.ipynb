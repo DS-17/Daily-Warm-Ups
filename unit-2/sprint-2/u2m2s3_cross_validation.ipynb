{
  "nbformat": 4,
  "nbformat_minor": 0,
  "metadata": {
    "colab": {
      "name": "u2m2s3-cross-validation.ipynb",
      "provenance": [],
      "collapsed_sections": []
    },
    "kernelspec": {
      "name": "python3",
      "display_name": "Python 3"
    }
  },
  "cells": [
    {
      "cell_type": "markdown",
      "metadata": {
        "id": "2YnhSmrh047N",
        "colab_type": "text"
      },
      "source": [
        "<!--\n",
        "Author: Brian Thomas Ross <ml@brianthomasross.com>\n",
        "License: BSD-3-Clause\n",
        "-->\n",
        "# Concepts\n",
        "---"
      ]
    },
    {
      "cell_type": "markdown",
      "metadata": {
        "id": "q4CWGTVD1gpR",
        "colab_type": "text"
      },
      "source": [
        "## How can outliers impact your model?"
      ]
    },
    {
      "cell_type": "markdown",
      "metadata": {
        "id": "7gskUPwZ1gdK",
        "colab_type": "text"
      },
      "source": [
        ""
      ]
    },
    {
      "cell_type": "markdown",
      "metadata": {
        "id": "mzj03B8w1m_r",
        "colab_type": "text"
      },
      "source": [
        "## What are some benefits of using pipelines in your workflow?"
      ]
    },
    {
      "cell_type": "markdown",
      "metadata": {
        "id": "czOn6PPH1myU",
        "colab_type": "text"
      },
      "source": [
        ""
      ]
    },
    {
      "cell_type": "markdown",
      "metadata": {
        "id": "cKXMmIhX1vkW",
        "colab_type": "text"
      },
      "source": [
        "## Which of the following algorithms is not an example of an ensemble learning algorithm?\n",
        "\n",
        "A) Random Forest\n",
        "\n",
        "B) Extra Trees\n",
        "\n",
        "C) Decision Trees\n",
        "\n",
        "D) Gradient Boosting\n",
        "\n",
        "E) Adaboost"
      ]
    },
    {
      "cell_type": "markdown",
      "metadata": {
        "id": "vYAqRikz1vb0",
        "colab_type": "text"
      },
      "source": [
        ""
      ]
    },
    {
      "cell_type": "markdown",
      "metadata": {
        "id": "ddujlKTh4Xjl",
        "colab_type": "text"
      },
      "source": [
        "## Define the following terms"
      ]
    },
    {
      "cell_type": "markdown",
      "metadata": {
        "id": "wwG1q0Bk4XhS",
        "colab_type": "text"
      },
      "source": [
        "Root Node:\n",
        "\n",
        "Decision Node:\n",
        "\n",
        "Leaf Node:"
      ]
    },
    {
      "cell_type": "markdown",
      "metadata": {
        "id": "0q6P-m1i5dzq",
        "colab_type": "text"
      },
      "source": [
        "## In your own words, how would you explain to a non-technical stakeholder how decision trees determine feature importances"
      ]
    },
    {
      "cell_type": "markdown",
      "metadata": {
        "id": "Dq9eVpx85dxa",
        "colab_type": "text"
      },
      "source": [
        ""
      ]
    },
    {
      "cell_type": "markdown",
      "metadata": {
        "id": "8-GAWQeJ5n39",
        "colab_type": "text"
      },
      "source": [
        "## What is an often encountered drawback when using decision trees?"
      ]
    },
    {
      "cell_type": "markdown",
      "metadata": {
        "id": "3jTQC6mB5nwr",
        "colab_type": "text"
      },
      "source": [
        ""
      ]
    },
    {
      "cell_type": "markdown",
      "metadata": {
        "id": "I2tt36Yt8A-1",
        "colab_type": "text"
      },
      "source": [
        "### Post an emoji of a fruit that grows on a tree in slack"
      ]
    },
    {
      "cell_type": "markdown",
      "metadata": {
        "id": "PfNEEVka6xsb",
        "colab_type": "text"
      },
      "source": [
        "## How do random forest models attempt to improve on this?"
      ]
    },
    {
      "cell_type": "markdown",
      "metadata": {
        "id": "jV5gdX1U6xqL",
        "colab_type": "text"
      },
      "source": [
        ""
      ]
    },
    {
      "cell_type": "markdown",
      "metadata": {
        "id": "MTuT1p3G7Hyq",
        "colab_type": "text"
      },
      "source": [
        "## Describe three business use cases where random forest models could provide value"
      ]
    },
    {
      "cell_type": "markdown",
      "metadata": {
        "id": "t55YFrbx7R7n",
        "colab_type": "text"
      },
      "source": [
        "1)\n",
        "\n",
        "2)\n",
        "\n",
        "3)\n"
      ]
    },
    {
      "cell_type": "markdown",
      "metadata": {
        "id": "_jLLzHPx7R3f",
        "colab_type": "text"
      },
      "source": [
        "## Give an example of a situation where you would **not** want to use a random forest model"
      ]
    },
    {
      "cell_type": "markdown",
      "metadata": {
        "id": "OJrekP3s7Rxw",
        "colab_type": "text"
      },
      "source": [
        ""
      ]
    },
    {
      "cell_type": "markdown",
      "metadata": {
        "id": "qfyfA6vd7hsR",
        "colab_type": "text"
      },
      "source": [
        "# Watch\n",
        "---"
      ]
    },
    {
      "cell_type": "markdown",
      "metadata": {
        "id": "rZknRssj81Yy",
        "colab_type": "text"
      },
      "source": [
        "The following is a brief primer on cross validation"
      ]
    },
    {
      "cell_type": "code",
      "metadata": {
        "id": "lWhCjMte7lAJ",
        "colab_type": "code",
        "colab": {
          "base_uri": "https://localhost:8080/",
          "height": 621
        },
        "outputId": "8cdb8a6c-0dfb-4967-d9cf-1036d88f15fb"
      },
      "source": [
        "from IPython.display import YouTubeVideo\n",
        "\n",
        "YouTubeVideo('CBHaInynRzU',width=800, height=600)"
      ],
      "execution_count": 3,
      "outputs": [
        {
          "output_type": "execute_result",
          "data": {
            "text/html": [
              "\n",
              "        <iframe\n",
              "            width=\"800\"\n",
              "            height=\"600\"\n",
              "            src=\"https://www.youtube.com/embed/CBHaInynRzU\"\n",
              "            frameborder=\"0\"\n",
              "            allowfullscreen\n",
              "        ></iframe>\n",
              "        "
            ],
            "text/plain": [
              "<IPython.lib.display.YouTubeVideo at 0x7f731400fc50>"
            ],
            "image/jpeg": "[encoded data removed]"
          },
          "metadata": {
            "tags": []
          },
          "execution_count": 3
        }
      ]
    },
    {
      "cell_type": "markdown",
      "metadata": {
        "id": "CUjIu1D47kXH",
        "colab_type": "text"
      },
      "source": [
        "# Prepare\n",
        "---"
      ]
    },
    {
      "cell_type": "markdown",
      "metadata": {
        "id": "gG7JXNvf8_OR",
        "colab_type": "text"
      },
      "source": [
        "For the remainder of the time before lecture, continue to search for the data set you will be using for the upcoming build week. Lean on your team to bounce ideas off of and ask for input. If you already have solidified your choice and submitted to your TL for their opinion, then you should use the time to select a second data set to pivot to in the event your first choice becomes unviable.\n",
        "\n",
        "If you have both a first and second choice selected, then give yourself a pat on the back and help your teammates generate ideas and be as fruitful in their searches!"
      ]
    }
  ]
}