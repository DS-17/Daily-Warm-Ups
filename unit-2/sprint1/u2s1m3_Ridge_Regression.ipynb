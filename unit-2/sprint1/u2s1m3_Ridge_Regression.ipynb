{
  "nbformat": 4,
  "nbformat_minor": 0,
  "metadata": {
    "colab": {
      "name": "u2s1m3-Ridge-Regression.ipynb",
      "provenance": []
    },
    "kernelspec": {
      "name": "python3",
      "display_name": "Python 3"
    }
  },
  "cells": [
    {
      "cell_type": "markdown",
      "metadata": {
        "id": "8XsMeftkGRVe",
        "colab_type": "text"
      },
      "source": [
        "<!--\n",
        "Author: Brian Thomas Ross <admin@brianthomasross.com>\n",
        "License: BSD-3-Clause\n",
        "-->"
      ]
    },
    {
      "cell_type": "markdown",
      "metadata": {
        "id": "JFmHb45MGeNY",
        "colab_type": "text"
      },
      "source": [
        "# Concepts\n",
        "----"
      ]
    },
    {
      "cell_type": "markdown",
      "metadata": {
        "id": "ynpKXLNJH9jy",
        "colab_type": "text"
      },
      "source": [
        "### What is the purpose of performing a train-test split on your data when creating predictive models?"
      ]
    },
    {
      "cell_type": "markdown",
      "metadata": {
        "id": "Fvq5wEzWIPqX",
        "colab_type": "text"
      },
      "source": [
        ""
      ]
    },
    {
      "cell_type": "markdown",
      "metadata": {
        "id": "FOJN9Zwynb5f",
        "colab_type": "text"
      },
      "source": [
        "### In data where dates or times might be considered determining factors, what should one take care to do when performing the train test split"
      ]
    },
    {
      "cell_type": "markdown",
      "metadata": {
        "id": "cqDEica9nbu7",
        "colab_type": "text"
      },
      "source": [
        ""
      ]
    },
    {
      "cell_type": "markdown",
      "metadata": {
        "id": "eOs6ZqUEIPlg",
        "colab_type": "text"
      },
      "source": [
        "### What is data leakage?"
      ]
    },
    {
      "cell_type": "markdown",
      "metadata": {
        "id": "2rG-wbAYIQNy",
        "colab_type": "text"
      },
      "source": [
        ""
      ]
    },
    {
      "cell_type": "markdown",
      "metadata": {
        "id": "Gu2Y6MN3J895",
        "colab_type": "text"
      },
      "source": [
        "### What are some potential business use-cases for linear regression models"
      ]
    },
    {
      "cell_type": "markdown",
      "metadata": {
        "id": "-2FVCY6mJ9hj",
        "colab_type": "text"
      },
      "source": [
        ""
      ]
    },
    {
      "cell_type": "markdown",
      "metadata": {
        "id": "C7hvOhzBPkln",
        "colab_type": "text"
      },
      "source": [
        "## Watch\n",
        "----\n",
        "\n",
        "Watch the following short video which gives a brief overview of $\\mathbb{R}^2$\n",
        "<div>\n",
        "<iframe width=\"560\" height=\"315\" src=\"https://www.youtube.com/embed/Q-TtIPF0fCU\" frameborder=\"0\" allow=\"accelerometer; autoplay; encrypted-media; gyroscope; picture-in-picture\" allowfullscreen></iframe>\n",
        "</div>"
      ]
    },
    {
      "cell_type": "code",
      "metadata": {
        "id": "W4UdKHhbzHcY",
        "colab_type": "code",
        "colab": {
          "base_uri": "https://localhost:8080/",
          "height": 336
        },
        "outputId": "1124760a-b52c-4fb0-91fb-e883c17d6753"
      },
      "source": [
        "from IPython.display import HTML\n",
        "\n",
        "HTML('<iframe width=\"560\" height=\"315\" src=\"https://www.youtube.com/embed/Q-TtIPF0fCU\" frameborder=\"0\" allow=\"accelerometer; autoplay; encrypted-media; gyroscope; picture-in-picture\" allowfullscreen></iframe>')"
      ],
      "execution_count": null,
      "outputs": [
        {
          "output_type": "execute_result",
          "data": {
            "text/html": [
              "<iframe width=\"560\" height=\"315\" src=\"https://www.youtube.com/embed/Q-TtIPF0fCU\" frameborder=\"0\" allow=\"accelerometer; autoplay; encrypted-media; gyroscope; picture-in-picture\" allowfullscreen></iframe>"
            ],
            "text/plain": [
              "<IPython.core.display.HTML object>"
            ]
          },
          "metadata": {
            "tags": []
          },
          "execution_count": 19
        }
      ]
    },
    {
      "cell_type": "markdown",
      "metadata": {
        "id": "pzRi_fYuJQy4",
        "colab_type": "text"
      },
      "source": [
        "## Explore\n",
        "----\n",
        "\n",
        "Take some time to explore the dataset that we will be using during lecture."
      ]
    },
    {
      "cell_type": "code",
      "metadata": {
        "id": "-vhfmpWBJgR2",
        "colab_type": "code",
        "colab": {}
      },
      "source": [
        "%%capture\n",
        "import sys\n",
        "\n",
        "# If you're on Colab:\n",
        "if 'google.colab' in sys.modules:\n",
        "    DATA_PATH = 'https://raw.githubusercontent.com/LambdaSchool/DS-Unit-2-Applied-Modeling/master/data/'\n",
        "    !pip install category_encoders==2.*\n",
        "\n",
        "# If you're working locally:\n",
        "else:\n",
        "    DATA_PATH = '../data/'"
      ],
      "execution_count": null,
      "outputs": []
    },
    {
      "cell_type": "code",
      "metadata": {
        "id": "cU_EOO3I99Jd",
        "colab_type": "code",
        "colab": {}
      },
      "source": [
        "import numpy as np\n",
        "import pandas as pd\n",
        "\n",
        "# Read New York City apartment rental listing data\n",
        "df = pd.read_csv(DATA_PATH+'apartments/renthop-nyc.csv')\n",
        "assert df.shape == (49352, 34)\n",
        "\n",
        "# Remove the most extreme 1% prices,\n",
        "# the most extreme .1% latitudes, &\n",
        "# the most extreme .1% longitudes\n",
        "df = df[(df['price'] >= np.percentile(df['price'], 0.5)) & \n",
        "        (df['price'] <= np.percentile(df['price'], 99.5)) & \n",
        "        (df['latitude'] >= np.percentile(df['latitude'], 0.05)) & \n",
        "        (df['latitude'] < np.percentile(df['latitude'], 99.95)) &\n",
        "        (df['longitude'] >= np.percentile(df['longitude'], 0.05)) & \n",
        "        (df['longitude'] <= np.percentile(df['longitude'], 99.95))]\n",
        "\n",
        "# Do train/test split\n",
        "# Use data from April & May 2016 to train\n",
        "# Use data from June 2016 to test\n",
        "df['created'] = pd.to_datetime(df['created'], infer_datetime_format=True)\n",
        "cutoff = pd.to_datetime('2016-06-01')\n",
        "train = df[df.created < cutoff]\n",
        "test  = df[df.created >= cutoff]"
      ],
      "execution_count": null,
      "outputs": []
    },
    {
      "cell_type": "code",
      "metadata": {
        "id": "7EW-4kstJcvc",
        "colab_type": "code",
        "colab": {}
      },
      "source": [
        "# Assert statements can be helpful to avoid simple errors\n",
        "assert len(train) + len(test) == len(df)"
      ],
      "execution_count": null,
      "outputs": []
    },
    {
      "cell_type": "code",
      "metadata": {
        "id": "q_8XGP8QLlGN",
        "colab_type": "code",
        "colab": {}
      },
      "source": [
        ""
      ],
      "execution_count": null,
      "outputs": []
    },
    {
      "cell_type": "markdown",
      "metadata": {
        "id": "wMOqWao7KWUS",
        "colab_type": "text"
      },
      "source": [
        "## Road to Local Development\n",
        "----\n",
        "\n",
        "Take the remainder of the time until lecture to begin backing up the important things on your computer. Some popular choices for backing up to the cloud include:\n",
        "\n",
        "\n",
        "- [OneDrive](https://www.microsoft.com/en-us/microsoft-365/onedrive/online-cloud-storage)\n",
        "- [Google Drive](https://www.google.com/drive/)\n",
        "- [DropBox](https://www.dropbox.com/basic)\n",
        "\n",
        "I can nearly guarantee that at some point during your careers in this industry that you will find yourself resetting your machines, being forced to reinstall your operating systems, thanks to catastrophic environment failure. A good admin knows that if something on your computer is important to you, that you should have it backed up in 2 separate locations."
      ]
    }
  ]
}
