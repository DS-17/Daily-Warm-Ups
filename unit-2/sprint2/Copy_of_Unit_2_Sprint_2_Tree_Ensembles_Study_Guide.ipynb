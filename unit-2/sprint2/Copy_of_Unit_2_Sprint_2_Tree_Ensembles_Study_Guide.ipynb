{
  "nbformat": 4,
  "nbformat_minor": 0,
  "metadata": {
    "colab": {
      "name": "Copy of Unit_2_Sprint_2_Tree_Ensembles_Study_Guide.ipynb",
      "provenance": [],
      "collapsed_sections": [],
      "include_colab_link": true
    },
    "kernelspec": {
      "name": "python3",
      "display_name": "Python 3"
    }
  },
  "cells": [
    {
      "cell_type": "markdown",
      "metadata": {
        "id": "view-in-github",
        "colab_type": "text"
      },
      "source": [
        "<a href=\"https://colab.research.google.com/github/evan-grinalds/Daily-Warm-Ups/blob/master/unit-2/sprint2/Copy_of_Unit_2_Sprint_2_Tree_Ensembles_Study_Guide.ipynb\" target=\"_parent\"><img src=\"https://colab.research.google.com/assets/colab-badge.svg\" alt=\"Open In Colab\"/></a>"
      ]
    },
    {
      "cell_type": "markdown",
      "metadata": {
        "id": "pXMdEU-qHQHh",
        "colab_type": "text"
      },
      "source": [
        "This study guide should reinforce and provide practice for all of the concepts you have seen in the past week. There are a mix of written questions and coding exercises, both are equally important to prepare you for the sprint challenge as well as to be able to speak on these topics comfortably in interviews and on the job.\n",
        "\n",
        "If you get stuck or are unsure of something remember the 20 minute rule. If that doesn't help, then research a solution with google and stackoverflow. Only once you have exausted these methods should you turn to your Team Lead - they won't be there on your SC or during an interview. That being said, don't hesitate to ask for help if you truly are stuck.\n",
        "\n",
        "Have fun studying!"
      ]
    },
    {
      "cell_type": "markdown",
      "metadata": {
        "id": "V-vPPhtthaNU",
        "colab_type": "text"
      },
      "source": [
        "# Resources"
      ]
    },
    {
      "cell_type": "markdown",
      "metadata": {
        "id": "PCvm7I44H3Oe",
        "colab_type": "text"
      },
      "source": [
        "[Category Encoders](https://contrib.scikit-learn.org/categorical-encoding/)\n",
        "\n",
        "[Logistic Regression](https://scikit-learn.org/stable/modules/generated/sklearn.linear_model.LogisticRegression.html)\n",
        "\n",
        "[Decision Tree Classifier](https://scikit-learn.org/stable/modules/generated/sklearn.tree.DecisionTreeClassifier.html)\n",
        "\n",
        "[Hyperparameter Tuning](https://scikit-learn.org/stable/modules/grid_search.html)\n",
        "\n",
        "[Confusion Matrix](https://scikit-learn.org/stable/auto_examples/model_selection/plot_confusion_matrix.html)\n",
        "\n",
        "[Scoring Metrics](https://scikit-learn.org/stable/modules/model_evaluation.html)"
      ]
    },
    {
      "cell_type": "code",
      "metadata": {
        "id": "b_7n8s1mak9k",
        "colab_type": "code",
        "colab": {}
      },
      "source": [
        "import pandas as pd"
      ],
      "execution_count": null,
      "outputs": []
    },
    {
      "cell_type": "markdown",
      "metadata": {
        "id": "xL8fg3mIhd_L",
        "colab_type": "text"
      },
      "source": [
        "Use the dataframe below for all questions unless otherwise stated"
      ]
    },
    {
      "cell_type": "code",
      "metadata": {
        "id": "3WWarojafXt5",
        "colab_type": "code",
        "colab": {
          "base_uri": "https://localhost:8080/",
          "height": 204
        },
        "outputId": "614d21f2-121c-4334-e493-e89aa2db94b7"
      },
      "source": [
        "# https://www.kaggle.com/ronitf/heart-disease-uci\n",
        "df = pd.read_csv('https://raw.githubusercontent.com/bundickm/Study-Guides/master/data/hearts.csv')\n",
        "df.head()"
      ],
      "execution_count": null,
      "outputs": [
        {
          "output_type": "execute_result",
          "data": {
            "text/html": [
              "<div>\n",
              "<style scoped>\n",
              "    .dataframe tbody tr th:only-of-type {\n",
              "        vertical-align: middle;\n",
              "    }\n",
              "\n",
              "    .dataframe tbody tr th {\n",
              "        vertical-align: top;\n",
              "    }\n",
              "\n",
              "    .dataframe thead th {\n",
              "        text-align: right;\n",
              "    }\n",
              "</style>\n",
              "<table border=\"1\" class=\"dataframe\">\n",
              "  <thead>\n",
              "    <tr style=\"text-align: right;\">\n",
              "      <th></th>\n",
              "      <th>Unnamed: 0</th>\n",
              "      <th>age</th>\n",
              "      <th>sex</th>\n",
              "      <th>cp</th>\n",
              "      <th>trestbps</th>\n",
              "      <th>chol</th>\n",
              "      <th>fbs</th>\n",
              "      <th>restecg</th>\n",
              "      <th>thalach</th>\n",
              "      <th>exang</th>\n",
              "      <th>oldpeak</th>\n",
              "      <th>slope</th>\n",
              "      <th>ca</th>\n",
              "      <th>thal</th>\n",
              "      <th>target</th>\n",
              "    </tr>\n",
              "  </thead>\n",
              "  <tbody>\n",
              "    <tr>\n",
              "      <th>0</th>\n",
              "      <td>0</td>\n",
              "      <td>63</td>\n",
              "      <td>Male</td>\n",
              "      <td>D</td>\n",
              "      <td>145</td>\n",
              "      <td>233</td>\n",
              "      <td>1</td>\n",
              "      <td>0</td>\n",
              "      <td>150</td>\n",
              "      <td>0</td>\n",
              "      <td>2.3</td>\n",
              "      <td>0</td>\n",
              "      <td>0</td>\n",
              "      <td>1</td>\n",
              "      <td>1</td>\n",
              "    </tr>\n",
              "    <tr>\n",
              "      <th>1</th>\n",
              "      <td>1</td>\n",
              "      <td>37</td>\n",
              "      <td>Male</td>\n",
              "      <td>C</td>\n",
              "      <td>130</td>\n",
              "      <td>250</td>\n",
              "      <td>0</td>\n",
              "      <td>1</td>\n",
              "      <td>187</td>\n",
              "      <td>0</td>\n",
              "      <td>3.5</td>\n",
              "      <td>0</td>\n",
              "      <td>0</td>\n",
              "      <td>2</td>\n",
              "      <td>1</td>\n",
              "    </tr>\n",
              "    <tr>\n",
              "      <th>2</th>\n",
              "      <td>2</td>\n",
              "      <td>41</td>\n",
              "      <td>Female</td>\n",
              "      <td>B</td>\n",
              "      <td>130</td>\n",
              "      <td>204</td>\n",
              "      <td>0</td>\n",
              "      <td>0</td>\n",
              "      <td>172</td>\n",
              "      <td>0</td>\n",
              "      <td>1.4</td>\n",
              "      <td>2</td>\n",
              "      <td>0</td>\n",
              "      <td>2</td>\n",
              "      <td>1</td>\n",
              "    </tr>\n",
              "    <tr>\n",
              "      <th>3</th>\n",
              "      <td>3</td>\n",
              "      <td>56</td>\n",
              "      <td>Male</td>\n",
              "      <td>B</td>\n",
              "      <td>120</td>\n",
              "      <td>236</td>\n",
              "      <td>0</td>\n",
              "      <td>1</td>\n",
              "      <td>178</td>\n",
              "      <td>0</td>\n",
              "      <td>0.8</td>\n",
              "      <td>2</td>\n",
              "      <td>0</td>\n",
              "      <td>2</td>\n",
              "      <td>1</td>\n",
              "    </tr>\n",
              "    <tr>\n",
              "      <th>4</th>\n",
              "      <td>4</td>\n",
              "      <td>57</td>\n",
              "      <td>Female</td>\n",
              "      <td>A</td>\n",
              "      <td>120</td>\n",
              "      <td>354</td>\n",
              "      <td>0</td>\n",
              "      <td>1</td>\n",
              "      <td>163</td>\n",
              "      <td>1</td>\n",
              "      <td>0.6</td>\n",
              "      <td>2</td>\n",
              "      <td>0</td>\n",
              "      <td>2</td>\n",
              "      <td>1</td>\n",
              "    </tr>\n",
              "  </tbody>\n",
              "</table>\n",
              "</div>"
            ],
            "text/plain": [
              "   Unnamed: 0  age     sex cp  trestbps  ...  oldpeak  slope  ca  thal  target\n",
              "0           0   63    Male  D       145  ...      2.3      0   0     1       1\n",
              "1           1   37    Male  C       130  ...      3.5      0   0     2       1\n",
              "2           2   41  Female  B       130  ...      1.4      2   0     2       1\n",
              "3           3   56    Male  B       120  ...      0.8      2   0     2       1\n",
              "4           4   57  Female  A       120  ...      0.6      2   0     2       1\n",
              "\n",
              "[5 rows x 15 columns]"
            ]
          },
          "metadata": {
            "tags": []
          },
          "execution_count": 2
        }
      ]
    },
    {
      "cell_type": "markdown",
      "metadata": {
        "id": "eDMTLmTzhufS",
        "colab_type": "text"
      },
      "source": [
        "# Basics and Data Preparation"
      ]
    },
    {
      "cell_type": "markdown",
      "metadata": {
        "id": "x7LH-U2KiMfO",
        "colab_type": "text"
      },
      "source": [
        "Define the following terms in your own words, do not simply copy and paste a definition found elsewhere but reword it to be understandable and memorable to you. *Double click the markdown to add your definitions.*\n",
        "<br/><br/>\n",
        "\n",
        "**Logistic Regression:** `Used to model a classification prediction of True/False`\n",
        "\n",
        "**Imbalanced Classes:** `Common accuracy issue in classification models `\n",
        "\n",
        "**Leakage:** `Unexpected additional information in training data that creates unrealistic predictions`\n",
        "\n",
        "**Categorical Encoding:** `Converting categorial values into numeric values for a regression model`\n",
        "\n",
        "**Skew:** `Bias of data towards left or right`\n",
        "\n",
        "**Log Transformation:** `0 or 1 for classification prediction`\n",
        "\n",
        "**Outliers:** `Noise to the signal. Increases variance for the model`"
      ]
    },
    {
      "cell_type": "markdown",
      "metadata": {
        "id": "fCIXoJtDnXDZ",
        "colab_type": "text"
      },
      "source": [
        "Answer the following questions in plain english as much as possible.\n",
        "<br/><br/>\n",
        "\n",
        "What are some ways to deal with imbalanced classes?\n",
        "```\n",
        "Use a tree-based algorithm because their hierarchical structure allows them to learn signals from both classes\n",
        "```\n",
        "\n",
        "What are some possible sources of data leakage?\n",
        "```\n",
        "Occurs when information outside the training data set is used. A solution to this is cross fold validations. \n",
        "```\n",
        "\n",
        "What are some indicators or methods for detecting data leakage?\n",
        "```\n",
        "Your Answer Here\n",
        "```\n",
        "\n",
        "What is the relationship between skew and log transformation?\n",
        "```\n",
        "Your Answer Here\n",
        "```"
      ]
    },
    {
      "cell_type": "markdown",
      "metadata": {
        "id": "q2M6tTW02sJe",
        "colab_type": "text"
      },
      "source": [
        "Using the dataset above, complete the following:\n",
        "- Train/Test/Validation Split\n",
        "- Get a baseline\n",
        "- Perform EDA with visuals\n",
        "- Clean up any nulls, duplicate columns, or outliers you might find\n",
        "- Engineer at least 2 features\n",
        "- Use One Hot or Ordinal Encoding on one feature"
      ]
    },
    {
      "cell_type": "code",
      "metadata": {
        "id": "XZlA2iue6LFN",
        "colab_type": "code",
        "colab": {}
      },
      "source": [
        ""
      ],
      "execution_count": null,
      "outputs": []
    },
    {
      "cell_type": "markdown",
      "metadata": {
        "id": "14JotyiJ8RjD",
        "colab_type": "text"
      },
      "source": [
        "# Model Building"
      ]
    },
    {
      "cell_type": "markdown",
      "metadata": {
        "id": "dhEv3JQ78TdH",
        "colab_type": "text"
      },
      "source": [
        "Define the following terms in your own words, do not simply copy and paste a definition found elsewhere but reword it to be understandable and memorable to you. *Double click the markdown to add your definitions.*\n",
        "<br/><br/>\n",
        "\n",
        "**Decision Tree:** `Your Answer Here`\n",
        "\n",
        "**Ensemble Methods (Ensemble Models):** `Your Answer Here`\n",
        "\n",
        "**Gradient Descent:** `Your Answer Here`\n",
        "\n",
        "**Bagging:** `Your Answer Here`\n",
        "\n",
        "**Boosting:** `Your Answer Here`\n",
        "\n",
        "**Hyperparameters:** `Your Answer Here`"
      ]
    },
    {
      "cell_type": "markdown",
      "metadata": {
        "id": "Bl8D-WwF8W8l",
        "colab_type": "text"
      },
      "source": [
        "Build a random forest classifier using the dataset you cleaned and prepped above."
      ]
    },
    {
      "cell_type": "code",
      "metadata": {
        "id": "T1dTbiC78g7r",
        "colab_type": "code",
        "colab": {}
      },
      "source": [
        ""
      ],
      "execution_count": null,
      "outputs": []
    },
    {
      "cell_type": "markdown",
      "metadata": {
        "id": "oE5S3glR-wNp",
        "colab_type": "text"
      },
      "source": [
        "Graph your model's feature importances"
      ]
    },
    {
      "cell_type": "code",
      "metadata": {
        "id": "Jptjbm16-3SY",
        "colab_type": "code",
        "colab": {}
      },
      "source": [
        ""
      ],
      "execution_count": null,
      "outputs": []
    },
    {
      "cell_type": "markdown",
      "metadata": {
        "id": "nu9wLKlg-3q3",
        "colab_type": "text"
      },
      "source": [
        "In 2-3 sentences, explain how to interpret and use the feature importances to further refine or help explain your model.\n",
        "\n",
        "```\n",
        "Your Answer Here\n",
        "```\n",
        "\n",
        "How does feature importance differ from drop-column importances and permutation importances?\n",
        "\n",
        "```\n",
        "Your Answer Here\n",
        "```"
      ]
    },
    {
      "cell_type": "markdown",
      "metadata": {
        "id": "df3-NCv18hUC",
        "colab_type": "text"
      },
      "source": [
        "Build a logisitic regression model using the dataset you cleaned and prepped above."
      ]
    },
    {
      "cell_type": "code",
      "metadata": {
        "id": "N2Kzqo358qbc",
        "colab_type": "code",
        "colab": {}
      },
      "source": [
        ""
      ],
      "execution_count": null,
      "outputs": []
    },
    {
      "cell_type": "markdown",
      "metadata": {
        "id": "inxDK4qx_WM7",
        "colab_type": "text"
      },
      "source": [
        "Plot the coefficients of your model."
      ]
    },
    {
      "cell_type": "code",
      "metadata": {
        "id": "tPEtTboF_hgs",
        "colab_type": "code",
        "colab": {}
      },
      "source": [
        ""
      ],
      "execution_count": null,
      "outputs": []
    },
    {
      "cell_type": "markdown",
      "metadata": {
        "id": "Kz_obfF9_kaF",
        "colab_type": "text"
      },
      "source": [
        "In 2-3 sentences, explain how to interpret and use the coefficients to further refine or help explain your model.\n",
        "\n",
        "```\n",
        "Your Answer Here\n",
        "```"
      ]
    },
    {
      "cell_type": "markdown",
      "metadata": {
        "id": "lZXahsuH_yUl",
        "colab_type": "text"
      },
      "source": [
        "What is an example of an ensemble method?\n",
        "\n",
        "```\n",
        "Your Answer Here\n",
        "```\n",
        "\n",
        "What do we mean by hyperparameter tuning and how can we automate the tuning process?\n",
        "\n",
        "```\n",
        "Your Answer Here\n",
        "```"
      ]
    },
    {
      "cell_type": "markdown",
      "metadata": {
        "id": "UfkSVMIS_7dg",
        "colab_type": "text"
      },
      "source": [
        "# Metrics and Model Evaluation"
      ]
    },
    {
      "cell_type": "markdown",
      "metadata": {
        "id": "Vb659NzBAQAY",
        "colab_type": "text"
      },
      "source": [
        "Define the following terms in your own words, do not simply copy and paste a definition found elsewhere but reword it to be understandable and memorable to you. *Double click the markdown to add your definitions.*\n",
        "<br/><br/>\n",
        "\n",
        "**ROC:** `Your Answer Here`\n",
        "\n",
        "**ROC-AUC:** `Your Answer Here`\n",
        "\n",
        "**Discrimination Threshold:** `Your Answer Here`\n",
        "\n",
        "**Precision:** `Your Answer Here`\n",
        "\n",
        "**Recall:** `Your Answer Here`\n",
        "\n",
        "**F1 Score:** `Your Answer Here`\n",
        "\n",
        "**Confusion Matrix:** `Your Answer Here`"
      ]
    },
    {
      "cell_type": "markdown",
      "metadata": {
        "id": "0F8klqRlCj1k",
        "colab_type": "text"
      },
      "source": [
        "Choose one of your models above to complete the following:\n",
        "- Get your model's validation accuracy (This may be done multiple times if you are refining your model)\n",
        "- Get your model's test accuracy\n",
        "- Create a confusion matrix for your model\n",
        "- Calculate the Accuracy, F1 Score, Precision, and Recall by hand\n",
        "- Use SKLearn to calculate accuracy, F1 score, precision, and recall to confirm your work."
      ]
    },
    {
      "cell_type": "code",
      "metadata": {
        "id": "MLFsf9me_49e",
        "colab_type": "code",
        "colab": {}
      },
      "source": [
        ""
      ],
      "execution_count": null,
      "outputs": []
    },
    {
      "cell_type": "markdown",
      "metadata": {
        "id": "elfpNZo-Fxe-",
        "colab_type": "text"
      },
      "source": [
        "Give an example of when we would use precision to score our model and explain why precision is the best metric for that situation.\n",
        "\n",
        "```\n",
        "Your Answer Here\n",
        "```\n",
        "\n",
        "Give an example of when we would use recall to score our model and explain why recall is the best metric for that situation.\n",
        "\n",
        "```\n",
        "Your Answer Here\n",
        "```"
      ]
    },
    {
      "cell_type": "markdown",
      "metadata": {
        "id": "Bdhtv_4KJrgQ",
        "colab_type": "text"
      },
      "source": [
        "Find your model's ROC-AUC Score"
      ]
    },
    {
      "cell_type": "code",
      "metadata": {
        "id": "uFR91njwJv8b",
        "colab_type": "code",
        "colab": {}
      },
      "source": [
        ""
      ],
      "execution_count": null,
      "outputs": []
    },
    {
      "cell_type": "markdown",
      "metadata": {
        "id": "DYOLWhoUJfQU",
        "colab_type": "text"
      },
      "source": [
        "Plot your model's ROC Curve"
      ]
    },
    {
      "cell_type": "code",
      "metadata": {
        "id": "VI45S71RJkRy",
        "colab_type": "code",
        "colab": {}
      },
      "source": [
        ""
      ],
      "execution_count": null,
      "outputs": []
    }
  ]
}