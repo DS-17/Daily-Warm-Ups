{
  "nbformat": 4,
  "nbformat_minor": 0,
  "metadata": {
    "colab": {
      "name": "dbHelper-experimentation.ipynb",
      "provenance": []
    },
    "kernelspec": {
      "name": "python3",
      "display_name": "Python 3"
    }
  },
  "cells": [
    {
      "cell_type": "code",
      "metadata": {
        "id": "0CgxeTa49PHG",
        "colab_type": "code",
        "colab": {}
      },
      "source": [
        "from pathlib import Path\n",
        "import sqlite3\n",
        "from typing import List\n",
        "\n",
        "import pandas as pd"
      ],
      "execution_count": 1,
      "outputs": []
    },
    {
      "cell_type": "code",
      "metadata": {
        "id": "JVli00qIFr6i",
        "colab_type": "code",
        "colab": {
          "base_uri": "https://localhost:8080/",
          "height": 437
        },
        "outputId": "5da259bf-2e09-48a1-ff4c-93e60dfa9a17"
      },
      "source": [
        "!wget https://github.com/LambdaSchool/DS-Unit-3-Sprint-2-SQL-and-Databases/blob/master/module1-introduction-to-sql/rpg_db.sqlite3?raw=true -O \"rpg_db.sqlite3\""
      ],
      "execution_count": 2,
      "outputs": [
        {
          "output_type": "stream",
          "text": [
            "--2020-08-12 13:57:28--  https://github.com/LambdaSchool/DS-Unit-3-Sprint-2-SQL-and-Databases/blob/master/module1-introduction-to-sql/rpg_db.sqlite3?raw=true\n",
            "Resolving github.com (github.com)... 140.82.112.4\n",
            "Connecting to github.com (github.com)|140.82.112.4|:443... connected.\n",
            "HTTP request sent, awaiting response... 302 Found\n",
            "Location: https://github.com/LambdaSchool/DS-Unit-3-Sprint-2-SQL-and-Databases/raw/master/module1-introduction-to-sql/rpg_db.sqlite3 [following]\n",
            "--2020-08-12 13:57:28--  https://github.com/LambdaSchool/DS-Unit-3-Sprint-2-SQL-and-Databases/raw/master/module1-introduction-to-sql/rpg_db.sqlite3\n",
            "Reusing existing connection to github.com:443.\n",
            "HTTP request sent, awaiting response... 302 Found\n",
            "Location: https://raw.githubusercontent.com/LambdaSchool/DS-Unit-3-Sprint-2-SQL-and-Databases/master/module1-introduction-to-sql/rpg_db.sqlite3 [following]\n",
            "--2020-08-12 13:57:28--  https://raw.githubusercontent.com/LambdaSchool/DS-Unit-3-Sprint-2-SQL-and-Databases/master/module1-introduction-to-sql/rpg_db.sqlite3\n",
            "Resolving raw.githubusercontent.com (raw.githubusercontent.com)... 151.101.0.133, 151.101.64.133, 151.101.128.133, ...\n",
            "Connecting to raw.githubusercontent.com (raw.githubusercontent.com)|151.101.0.133|:443... connected.\n",
            "HTTP request sent, awaiting response... 200 OK\n",
            "Length: 253952 (248K) [application/octet-stream]\n",
            "Saving to: ‘rpg_db.sqlite3’\n",
            "\n",
            "rpg_db.sqlite3      100%[===================>] 248.00K  --.-KB/s    in 0.05s   \n",
            "\n",
            "2020-08-12 13:57:29 (4.47 MB/s) - ‘rpg_db.sqlite3’ saved [253952/253952]\n",
            "\n"
          ],
          "name": "stdout"
        }
      ]
    },
    {
      "cell_type": "code",
      "metadata": {
        "id": "iBgJs6RK_blg",
        "colab_type": "code",
        "colab": {}
      },
      "source": [
        "_valid_contexts: List[str] = ['sqlite',\n",
        "                              # 'postgres',\n",
        "                              # 'mongo'\n",
        "                              ]"
      ],
      "execution_count": 3,
      "outputs": []
    },
    {
      "cell_type": "code",
      "metadata": {
        "id": "ODTpwt04ArER",
        "colab_type": "code",
        "colab": {}
      },
      "source": [
        "def _valid_db_path(pattern: str):\n",
        "    \"\"\"Raise an exception in the event of invalid database.\"\"\"\n",
        "    # Let's check first that we've been passed an object with type\n",
        "    # of string\n",
        "    if not isinstance(pattern, str):\n",
        "        raise TypeError(f'{pattern} invalid type for database path.')\n",
        "    # If this check passes then we could set a variable.from the pattern\n",
        "    # argument. Using ``Path().absolute()`` we can retrieve the absolute\n",
        "    # path (eg. entire path starting from the root [C:// or /home/)])\n",
        "    # to the supposed database.\n",
        "    path = Path(pattern).absolute()\n",
        "    # We know that the sqlite3 module will create a database if it\n",
        "    # does not already exist, so perhaps it would be more helpful\n",
        "    # to ensure that the path does not point to a directory which would\n",
        "    # be invalid.\n",
        "    if path.is_dir():\n",
        "        raise ValueError(f\"'{path}' is a directory not an sqlite database.\")\n",
        "    # Finally if both the above checks pass it may be more helpful to\n",
        "    # pass back to the class the absolute path.\n",
        "    return str(path)"
      ],
      "execution_count": 4,
      "outputs": []
    },
    {
      "cell_type": "code",
      "metadata": {
        "id": "6NfKxWcsAs2S",
        "colab_type": "code",
        "colab": {
          "base_uri": "https://localhost:8080/",
          "height": 321
        },
        "outputId": "6a286018-9832-4db3-9f6e-b5e7511b5848"
      },
      "source": [
        "_valid_db_path('/content/')"
      ],
      "execution_count": 40,
      "outputs": [
        {
          "output_type": "error",
          "ename": "ValueError",
          "evalue": "ignored",
          "traceback": [
            "\u001b[0;31m---------------------------------------------------------------------------\u001b[0m",
            "\u001b[0;31mValueError\u001b[0m                                Traceback (most recent call last)",
            "\u001b[0;32m<ipython-input-40-322a2796224c>\u001b[0m in \u001b[0;36m<module>\u001b[0;34m()\u001b[0m\n\u001b[0;32m----> 1\u001b[0;31m \u001b[0m_valid_db_path\u001b[0m\u001b[0;34m(\u001b[0m\u001b[0;34m'/content/'\u001b[0m\u001b[0;34m)\u001b[0m\u001b[0;34m\u001b[0m\u001b[0;34m\u001b[0m\u001b[0m\n\u001b[0m",
            "\u001b[0;32m<ipython-input-4-2ef222310fd9>\u001b[0m in \u001b[0;36m_valid_db_path\u001b[0;34m(pattern)\u001b[0m\n\u001b[1;32m     15\u001b[0m     \u001b[0;31m# be invalid.\u001b[0m\u001b[0;34m\u001b[0m\u001b[0;34m\u001b[0m\u001b[0;34m\u001b[0m\u001b[0m\n\u001b[1;32m     16\u001b[0m     \u001b[0;32mif\u001b[0m \u001b[0mpath\u001b[0m\u001b[0;34m.\u001b[0m\u001b[0mis_dir\u001b[0m\u001b[0;34m(\u001b[0m\u001b[0;34m)\u001b[0m\u001b[0;34m:\u001b[0m\u001b[0;34m\u001b[0m\u001b[0;34m\u001b[0m\u001b[0m\n\u001b[0;32m---> 17\u001b[0;31m         \u001b[0;32mraise\u001b[0m \u001b[0mValueError\u001b[0m\u001b[0;34m(\u001b[0m\u001b[0;34mf\"'{path}' is a directory not an sqlite database.\"\u001b[0m\u001b[0;34m)\u001b[0m\u001b[0;34m\u001b[0m\u001b[0;34m\u001b[0m\u001b[0m\n\u001b[0m\u001b[1;32m     18\u001b[0m     \u001b[0;31m# Finally if both the above checks pass it may be more helpful to\u001b[0m\u001b[0;34m\u001b[0m\u001b[0;34m\u001b[0m\u001b[0;34m\u001b[0m\u001b[0m\n\u001b[1;32m     19\u001b[0m     \u001b[0;31m# pass back to the class the absolute path.\u001b[0m\u001b[0;34m\u001b[0m\u001b[0;34m\u001b[0m\u001b[0;34m\u001b[0m\u001b[0m\n",
            "\u001b[0;31mValueError\u001b[0m: '/content' is a directory not an sqlite database."
          ]
        }
      ]
    },
    {
      "cell_type": "code",
      "metadata": {
        "id": "PWJ9P-sTAv0e",
        "colab_type": "code",
        "colab": {}
      },
      "source": [
        "class DbHelper(object):\n",
        "    \"\"\"Helper class for interacting with SQL databases.\"\"\"\n",
        "\n",
        "    def __init__(self, path_to_database: str, context: str) -> None:\n",
        "        f\"\"\"\n",
        "        :param path_to_database: Database path.\n",
        "        :param context: The type of database to use one of {str(\" \".join(_valid_contexts))}\n",
        "        \"\"\"\n",
        "        # First we should validate that the context is a valid selection\n",
        "        # if it is not we should raise an error informing the user.\n",
        "        if context not in _valid_contexts:\n",
        "            # Prettify the list of valid contexts\n",
        "            contexts = \" \".join(_valid_contexts)\n",
        "            raise ValueError(f\"'{context}' is not a valid context.\",\n",
        "                             '\\n',\n",
        "                             f\"You should try one of these: {contexts}\"\n",
        "                             )\n",
        "        # If a valid context has been selected then lets set variable\n",
        "        self._context = context\n",
        "\n",
        "        # Next we should use some sort of validation to ensure that the\n",
        "        # value being passed as the database location is indeed a valid\n",
        "        # selection. This is what the above function was defined for,\n",
        "        # so we can set the instance attribute of the database location\n",
        "        # to the result of the function\n",
        "        self._db_location = _valid_db_path(path_to_database)\n",
        "        # We can establish a connection upon instantiation by calling\n",
        "        # the ``_connect`` method here\n",
        "        self.connection, self.cursor = self._connect()\n",
        "\n",
        "    def _connect(self):\n",
        "        \"\"\"Establish a connection to the database.\"\"\"\n",
        "        # This is fairly straightforward as we're merely using the\n",
        "        # code that we're already familiar with it and executing it\n",
        "        # inside of a class method.\n",
        "        #\n",
        "        # We'll use the naming convention to tell other programmers that\n",
        "        # this is a private method.\n",
        "        #\n",
        "        # We can also begin to define the logic which will allow us to\n",
        "        # later extend this class to work with other contexts\n",
        "        if self._context == 'sqlite':\n",
        "            connection = sqlite3.connect(self._db_location)\n",
        "            cursor = connection.cursor()\n",
        "            return connection, cursor\n",
        "\n",
        "    def execute(self, statement: str):\n",
        "        \"\"\"Execute a single query.\"\"\"\n",
        "        # Again we're merely defining the logic we're already familiar\n",
        "        # with inside of the class method.\n",
        "        self.connection.execute(statement)\n",
        "\n",
        "\n",
        "    def query(self, query: str):\n",
        "        \"\"\"Execute a query.\"\"\"\n",
        "        # A query is just an executed statement that returns\n",
        "        # data.\n",
        "        self.cursor.execute(query)\n",
        "        data = self.cursor.fetchall()\n",
        "        return data\n",
        "\n",
        "    def commit(self):\n",
        "        \"\"\"Commit changes to the database.\"\"\"\n",
        "        self.connection.commit()\n",
        "\n",
        "    def close(self):\n",
        "        \"\"\"Close the connection.\"\"\"\n",
        "        self.connection.close()\n",
        "\n",
        "    def __enter__(self):\n",
        "        # This just returns the instance itself\n",
        "        return self\n",
        "\n",
        "    def __exit__(self, ext_type, exc_value, traceback):\n",
        "        # First close the cursor\n",
        "        self.cursor.close()\n",
        "        # If an exception has been encountered then\n",
        "        if isinstance(exc_value, Exception):\n",
        "            # rollback the database\n",
        "            self.connection.rollback()\n",
        "        # otherwise commit the changes to the database\n",
        "        else:\n",
        "            self.commit()\n",
        "        # close the connection\n",
        "        self.close()\n"
      ],
      "execution_count": 25,
      "outputs": []
    },
    {
      "cell_type": "code",
      "metadata": {
        "id": "agFNwkTyF4Yd",
        "colab_type": "code",
        "colab": {}
      },
      "source": [
        "db = DbHelper(path_to_database='/content/rpg_db.sqlite3', context='sqlite')"
      ],
      "execution_count": 36,
      "outputs": []
    },
    {
      "cell_type": "code",
      "metadata": {
        "id": "xyDEgXKzF_eR",
        "colab_type": "code",
        "colab": {
          "base_uri": "https://localhost:8080/",
          "height": 37
        },
        "outputId": "e8efc351-7479-4a3f-dd8e-4341573d24c4"
      },
      "source": [
        "db.query(query=\"\"\"\n",
        "SELECT COUNT (DISTINCT name) AS Number_of_total_Characters\n",
        "FROM charactercreator_character\n",
        "\"\"\")"
      ],
      "execution_count": 39,
      "outputs": [
        {
          "output_type": "execute_result",
          "data": {
            "text/plain": [
              "[(297,)]"
            ]
          },
          "metadata": {
            "tags": []
          },
          "execution_count": 39
        }
      ]
    },
    {
      "cell_type": "code",
      "metadata": {
        "id": "2A1u8qbeGULC",
        "colab_type": "code",
        "colab": {
          "base_uri": "https://localhost:8080/",
          "height": 37
        },
        "outputId": "5b2fd298-0d77-4dcc-dbba-4fd574cbd083"
      },
      "source": [
        "# Having defined both __enter__ and __exit__ methods\n",
        "# we can utilize context management and execute\n",
        "# our query inside of a ``with`` statement to ensure\n",
        "# the connection is properly closed upon exiting the\n",
        "# block of code.\n",
        "\n",
        "with DbHelper(\n",
        "    path_to_database='/content/rpg_db.sqlite3', context='sqlite'\n",
        "    ) as db:\n",
        "    answer = db.query(\n",
        "\"\"\"\n",
        "SELECT COUNT (DISTINCT name) AS Number_of_total_Characters\n",
        "FROM charactercreator_character\n",
        "\"\"\"\n",
        ")\n",
        "    \n",
        "print(answer)"
      ],
      "execution_count": 34,
      "outputs": [
        {
          "output_type": "stream",
          "text": [
            "[(297,)]\n"
          ],
          "name": "stdout"
        }
      ]
    }
  ]
}